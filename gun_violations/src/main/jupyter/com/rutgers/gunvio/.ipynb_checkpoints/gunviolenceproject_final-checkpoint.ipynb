{
 "cells": [
  {
   "cell_type": "code",
   "execution_count": null,
   "metadata": {},
   "outputs": [],
   "source": [
    "%matplotlib inline\n",
    "# Dependencies and Setup\n",
    "import matplotlib.pyplot as plt\n",
    "import pandas as pd\n",
    "import numpy as np\n",
    "import time\n",
    "import datetime\n",
    "from datetime import date\n",
    "\n",
    "#File to Load\n",
    "gun_violence = \"gunviolencedata.csv\"\n",
    "\n",
    "#Read the Gun Violence Data\n",
    "\n",
    "gun_violence_df = pd.read_csv(gun_violence)\n",
    "gun_violence_df.head()\n",
    "\n"
   ]
  },
  {
   "cell_type": "code",
   "execution_count": null,
   "metadata": {},
   "outputs": [],
   "source": [
    "#Rename Columns\n",
    "gun_violence_df = gun_violence_df.rename(columns={\"incident_id\":\"Incident ID\",\"date\":\"Date of Incident\",\"state\":\"State\",\"city_or_county\":\"City or County\",\"n_killed\":\"Number of Victims Killed\",\"n_injured\":\"Number of Victims Injured\" })\n",
    "gun_violence_df.head()\n"
   ]
  },
  {
   "cell_type": "code",
   "execution_count": null,
   "metadata": {},
   "outputs": [],
   "source": [
    "#Convert the data type of Date of Incident\n",
    "gun_violence_df['Date of Incident'] = pd.to_datetime(gun_violence_df['Date of Incident'], errors='coerce')\n",
    "gun_violence_df['Year'] = gun_violence_df['Date of Incident'].dt.year\n",
    "gun_violence_df['Month'] = gun_violence_df['Date of Incident'].dt.month\n",
    "gun_violence_df['Day'] = gun_violence_df['Date of Incident'].dt.day\n",
    "gun_violence_df['Casualty'] = gun_violence_df['Number of Victims Killed'] + gun_violence_df['Number of Victims Injured']\n",
    "\n",
    "gun_violence_df.head(10)"
   ]
  },
  {
   "cell_type": "code",
   "execution_count": null,
   "metadata": {},
   "outputs": [],
   "source": [
    "#Find out how many victims casualties in each state, this data frame will be used for the line graph.\n",
    "gun_violence_casualty = gun_violence_df.groupby(['Year', 'State'], as_index=False).agg({'Casualty':'sum'})\n",
    "#gun_violence_casualty= gun_violence_casualty.set_index(['State','Year','Casualty']).sort_index()\n",
    "#filtered_state = gun_violence_casualty.loc[gun_violence_casualty['State'] == 'New Jersey']\n",
    "#filtered_state.set_index('Year')\n",
    "#filtered_state.Year.tolist()\n",
    "#gun_violence_casualty.dtypes"
   ]
  },
  {
   "cell_type": "code",
   "execution_count": null,
   "metadata": {},
   "outputs": [],
   "source": [
    "#Data Frame needed to create stacked bar graph\n",
    "gun_violence_killed_injured = gun_violence_df.groupby(['Year','State'], as_index=False).agg({'Incident ID':'count',\n",
    "                                                                                             'Number of Victims Killed':'sum',\n",
    "                                                                                             'Number of Victims Injured':'sum'})\n",
    "gun_violence_killed_injured.head()"
   ]
  },
  {
   "cell_type": "code",
   "execution_count": null,
   "metadata": {},
   "outputs": [],
   "source": [
    "#Graph a stacked bar graph where the x-axis is each state and the stacked bars contain the victims killed for each year\n",
    "fig,ax=plt.subplots()\n",
    "stacked_graph=gun_violence_killed_injured.groupby(['State','Year'])['Number of Victims Killed'].first().unstack().plot(kind='bar',width=.35,ax=ax,stacked=True,figsize = (18,10))\n",
    "plt.title(\"Victims Killed Due to Gun Violence\")\n",
    "plt.xlabel(\"States\")\n",
    "plt.ylabel(\"Number of Deaths\")\n",
    "ax.grid()"
   ]
  },
  {
   "cell_type": "code",
   "execution_count": null,
   "metadata": {},
   "outputs": [],
   "source": [
    "#Graph a stacked bar graph where the x-axis is each state and the stacked bars contain the victims injured for each year\n",
    "fig,ax=plt.subplots()\n",
    "stacked_graph=gun_violence_killed_injured.groupby(['State','Year'])['Number of Victims Injured'].first().unstack().plot(kind='bar',stacked=True,ax=ax,width=.35,figsize = (18,10))\n",
    "plt.title(\"Victims Injured Due to Gun Violence\")\n",
    "plt.xlabel(\"States\")\n",
    "plt.ylabel(\"Number of Victims Injured\")\n",
    "ax.grid()"
   ]
  },
  {
   "cell_type": "code",
   "execution_count": null,
   "metadata": {},
   "outputs": [],
   "source": [
    "#Determine the types in the gun_violence_df for reference in create graphs\n",
    "gun_violence_df.dtypes\n"
   ]
  },
  {
   "cell_type": "code",
   "execution_count": null,
   "metadata": {},
   "outputs": [],
   "source": [
    "# Plot a line casualty graph for different states over the different years to see the trend comparising for each state\n",
    "def casualty_plot(sList):\n",
    "    \n",
    "    fig, ax = plt.subplots()\n",
    "    \n",
    "    plt.title(\"Casualties over time for the state of {}\".format(', '.join(sList)))\n",
    "    plt.xlabel(\"Years\")\n",
    "    plt.ylabel(\"Number of Casualties\")\n",
    "    fig.set_size_inches(18.5, 10.5)\n",
    "    for state in sList:\n",
    "        print(state)\n",
    "        filtered_state = gun_violence_casualty.loc[gun_violence_casualty['State'] == state]\n",
    "        \n",
    "\n",
    "        print(filtered_state.Year.tolist())\n",
    "        print(filtered_state.Casualty.tolist())\n",
    "        \n",
    "        ax.plot(filtered_state.Year.tolist(), filtered_state.Casualty.tolist(), label = state) \n",
    "    plt.legend(loc=\"upper right\",title=\"State\")\n",
    "    ax.grid()\n",
    "   "
   ]
  },
  {
   "cell_type": "code",
   "execution_count": null,
   "metadata": {
    "scrolled": true
   },
   "outputs": [],
   "source": [
    "#Take the user input on what state the user would like to use, and plot all lines on one graphp\n",
    "state  = input(\"Which state do you want to plot casualties for ? Please seperate states by a comma followed by a space.\")\n",
    "type(state)\n",
    "sList=state.split(', ')\n",
    "#print(len(sList))\n",
    "casualty_plot(sList)"
   ]
  }
 ],
 "metadata": {
  "kernelspec": {
   "display_name": "Python 3",
   "language": "python",
   "name": "python3"
  },
  "language_info": {
   "codemirror_mode": {
    "name": "ipython",
    "version": 3
   },
   "file_extension": ".py",
   "mimetype": "text/x-python",
   "name": "python",
   "nbconvert_exporter": "python",
   "pygments_lexer": "ipython3",
   "version": "3.7.0"
  }
 },
 "nbformat": 4,
 "nbformat_minor": 2
}
