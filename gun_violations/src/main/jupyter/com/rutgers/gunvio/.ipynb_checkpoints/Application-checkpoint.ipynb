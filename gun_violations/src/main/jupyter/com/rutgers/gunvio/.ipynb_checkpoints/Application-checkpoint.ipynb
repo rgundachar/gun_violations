{
 "cells": [
  {
   "cell_type": "code",
   "execution_count": 1,
   "metadata": {},
   "outputs": [
    {
     "name": "stdout",
     "output_type": "stream",
     "text": [
      "importing Jupyter notebook from gun_violations_state.ipynb\n"
     ]
    }
   ],
   "source": [
    "#import all dependencies\n",
    "import import_ipynb\n",
    "import plotly.plotly as py\n",
    "import pandas as pd\n",
    "import gmaps\n",
    "from gun_violations_state import buildmapbystatevio\n",
    "from gun_violations_state import gun_vio_locations\n",
    "from gun_violations_state import setread_csvfile\n",
    "from utils.config import gkey"
   ]
  },
  {
   "cell_type": "code",
   "execution_count": 2,
   "metadata": {},
   "outputs": [
    {
     "name": "stdout",
     "output_type": "stream",
     "text": [
      "Gun Violations State - Please enter the year 2018\n",
      "True\n",
      "    Year                 state  KilledCount  InjuredCount\n",
      "0   2018               Alabama          135           219\n",
      "1   2018                Alaska           11            19\n",
      "2   2018               Arizona           85            73\n",
      "3   2018              Arkansas           43            83\n",
      "4   2018            California          304           432\n",
      "5   2018              Colorado           61            79\n",
      "6   2018           Connecticut           17            57\n",
      "7   2018              Delaware            8            28\n",
      "8   2018  District of Columbia           25            61\n",
      "9   2018               Florida          267           379\n",
      "10  2018               Georgia          128           203\n",
      "11  2018                Hawaii            1             8\n",
      "12  2018                 Idaho           14             9\n",
      "13  2018              Illinois          165           572\n",
      "14  2018               Indiana           96           131\n",
      "15  2018                  Iowa           10            36\n",
      "16  2018                Kansas           38            55\n",
      "17  2018              Kentucky           77           125\n",
      "18  2018             Louisiana          129           240\n",
      "19  2018                 Maine            8             3\n",
      "20  2018              Maryland           79           163\n",
      "21  2018         Massachusetts           22            80\n",
      "22  2018              Michigan          122           188\n",
      "23  2018             Minnesota           26            64\n",
      "24  2018           Mississippi          106           136\n",
      "25  2018              Missouri          128           215\n",
      "26  2018               Montana            5            13\n",
      "27  2018              Nebraska           11            31\n",
      "28  2018                Nevada           61            56\n",
      "29  2018         New Hampshire            1            10\n",
      "30  2018            New Jersey           57            72\n",
      "31  2018            New Mexico           37            24\n",
      "32  2018              New York           67           150\n",
      "33  2018        North Carolina          108           244\n",
      "34  2018          North Dakota            3             7\n",
      "35  2018                  Ohio          139           277\n",
      "36  2018              Oklahoma           44            92\n",
      "37  2018                Oregon           31            39\n",
      "38  2018          Pennsylvania          136           238\n",
      "39  2018          Rhode Island            5            13\n",
      "40  2018        South Carolina           89           192\n",
      "41  2018          South Dakota            7            13\n",
      "42  2018             Tennessee           98           210\n",
      "43  2018                 Texas          310           374\n",
      "44  2018                  Utah           10            33\n",
      "45  2018               Vermont            4             3\n",
      "46  2018              Virginia           72           187\n",
      "47  2018            Washington           54            83\n",
      "48  2018         West Virginia           23            34\n",
      "49  2018             Wisconsin           46           118\n"
     ]
    }
   ],
   "source": [
    "#Get year you want to see \n",
    "yr = input(\"Gun Violations State - Please enter the year \")\n",
    "usa_gunviobyyr_df=setread_csvfile(yr,True)"
   ]
  },
  {
   "cell_type": "code",
   "execution_count": 3,
   "metadata": {},
   "outputs": [
    {
     "name": "stdout",
     "output_type": "stream",
     "text": [
      "High five! You successfully sent some data to your account on plotly. View your plot in your browser at https://plot.ly/~rgundachar/0 or inside your plot.ly account where it is named 'd3-cloropleth-map'\n"
     ]
    },
    {
     "data": {
      "text/html": [
       "<iframe id=\"igraph\" scrolling=\"no\" style=\"border:none;\" seamless=\"seamless\" src=\"https://plot.ly/~rgundachar/0.embed\" height=\"525px\" width=\"100%\"></iframe>"
      ],
      "text/plain": [
       "<plotly.tools.PlotlyDisplay object>"
      ]
     },
     "execution_count": 3,
     "metadata": {},
     "output_type": "execute_result"
    }
   ],
   "source": [
    "#build USA map with  state where casualities happened\n",
    "mapfig=buildmapbystatevio(usa_gunviobyyr_df,yr)\n",
    "py.iplot( mapfig, filename='d3-cloropleth-map' )"
   ]
  },
  {
   "cell_type": "code",
   "execution_count": null,
   "metadata": {},
   "outputs": [
    {
     "name": "stdout",
     "output_type": "stream",
     "text": [
      "False\n"
     ]
    }
   ],
   "source": [
    "#build google map with lat and lng where casualities happened\n",
    "usa_gunviobyyr_df=setread_csvfile(yr,False)\n",
    "geomaps=gun_vio_locations(usa_gunviobyyr_df,gkey)\n",
    "fig = gmaps.figure()\n",
    "fig.add_layer(geomaps)\n",
    "fig"
   ]
  },
  {
   "cell_type": "code",
   "execution_count": null,
   "metadata": {},
   "outputs": [],
   "source": []
  }
 ],
 "metadata": {
  "kernelspec": {
   "display_name": "Python 3",
   "language": "python",
   "name": "python3"
  },
  "language_info": {
   "codemirror_mode": {
    "name": "ipython",
    "version": 3
   },
   "file_extension": ".py",
   "mimetype": "text/x-python",
   "name": "python",
   "nbconvert_exporter": "python",
   "pygments_lexer": "ipython3",
   "version": "3.7.0"
  }
 },
 "nbformat": 4,
 "nbformat_minor": 2
}
