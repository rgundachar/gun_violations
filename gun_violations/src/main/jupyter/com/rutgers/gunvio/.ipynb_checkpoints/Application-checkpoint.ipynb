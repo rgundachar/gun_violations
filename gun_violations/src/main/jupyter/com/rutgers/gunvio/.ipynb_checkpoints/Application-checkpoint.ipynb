{
 "cells": [
  {
   "cell_type": "code",
   "execution_count": 1,
   "metadata": {},
   "outputs": [
    {
     "name": "stdout",
     "output_type": "stream",
     "text": [
      "importing Jupyter notebook from gun_violations_state.ipynb\n"
     ]
    }
   ],
   "source": [
    "#import all dependencies\n",
    "import import_ipynb\n",
    "import plotly.plotly as py\n",
    "import pandas as pd\n",
    "import gmaps\n",
    "from gun_violations_state import buildmapbystatevio\n",
    "from gun_violations_state import gun_vio_locations\n",
    "from gun_violations_state import setread_csvfile\n",
    "from utils.config import gkey"
   ]
  },
  {
   "cell_type": "code",
   "execution_count": 2,
   "metadata": {},
   "outputs": [
    {
     "name": "stdout",
     "output_type": "stream",
     "text": [
      "Gun Violations State - Please enter the year 2018\n"
     ]
    }
   ],
   "source": [
    "#Get year you want to see \n",
    "yr = input(\"Gun Violations State - Please enter the year \")\n",
    "usa_gunviobyyr_df=setread_csvfile(yr,True)"
   ]
  },
  {
   "cell_type": "code",
   "execution_count": 3,
   "metadata": {},
   "outputs": [
    {
     "name": "stdout",
     "output_type": "stream",
     "text": [
      "High five! You successfully sent some data to your account on plotly. View your plot in your browser at https://plot.ly/~rgundachar/0 or inside your plot.ly account where it is named 'd3-cloropleth-map'\n"
     ]
    },
    {
     "data": {
      "text/html": [
       "<iframe id=\"igraph\" scrolling=\"no\" style=\"border:none;\" seamless=\"seamless\" src=\"https://plot.ly/~rgundachar/0.embed\" height=\"525px\" width=\"100%\"></iframe>"
      ],
      "text/plain": [
       "<plotly.tools.PlotlyDisplay object>"
      ]
     },
     "execution_count": 3,
     "metadata": {},
     "output_type": "execute_result"
    }
   ],
   "source": [
    "#build USA map with  state where casualities happened\n",
    "mapfig=buildmapbystatevio(usa_gunviobyyr_df,yr)\n",
    "py.iplot( mapfig, filename='d3-cloropleth-map' )"
   ]
  },
  {
   "cell_type": "code",
   "execution_count": 4,
   "metadata": {},
   "outputs": [
    {
     "data": {
      "application/vnd.jupyter.widget-view+json": {
       "model_id": "6521f898346a494d8c0c7618da300537",
       "version_major": 2,
       "version_minor": 0
      },
      "text/plain": [
       "Figure(layout=FigureLayout(height='420px'))"
      ]
     },
     "metadata": {},
     "output_type": "display_data"
    }
   ],
   "source": [
    "#build google map with lat and lng where casualities happened\n",
    "usa_gunviobyyr_df=setread_csvfile(yr,False)\n",
    "geomaps=gun_vio_locations(usa_gunviobyyr_df,gkey)\n",
    "fig = gmaps.figure()\n",
    "fig.add_layer(geomaps)\n",
    "fig"
   ]
  },
  {
   "cell_type": "code",
   "execution_count": null,
   "metadata": {},
   "outputs": [],
   "source": []
  }
 ],
 "metadata": {
  "kernelspec": {
   "display_name": "Python 3",
   "language": "python",
   "name": "python3"
  },
  "language_info": {
   "codemirror_mode": {
    "name": "ipython",
    "version": 3
   },
   "file_extension": ".py",
   "mimetype": "text/x-python",
   "name": "python",
   "nbconvert_exporter": "python",
   "pygments_lexer": "ipython3",
   "version": "3.7.0"
  }
 },
 "nbformat": 4,
 "nbformat_minor": 2
}
